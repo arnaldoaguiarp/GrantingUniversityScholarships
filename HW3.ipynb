{
  "nbformat": 4,
  "nbformat_minor": 0,
  "metadata": {
    "colab": {
      "name": "HW3.ipynb",
      "provenance": [],
      "collapsed_sections": [],
      "toc_visible": true
    },
    "kernelspec": {
      "display_name": "Python 3",
      "language": "python",
      "name": "python3"
    },
    "language_info": {
      "codemirror_mode": {
        "name": "ipython",
        "version": 3
      },
      "file_extension": ".py",
      "mimetype": "text/x-python",
      "name": "python",
      "nbconvert_exporter": "python",
      "pygments_lexer": "ipython3",
      "version": "3.7.6"
    }
  },
  "cells": [
    {
      "cell_type": "code",
      "metadata": {
        "id": "8hjYnewa8Xdv",
        "colab": {
          "base_uri": "https://localhost:8080/"
        },
        "outputId": "75825733-8093-4105-a538-33d15b2dde2e"
      },
      "source": [
        "import pandas as pd\n",
        "import matplotlib.pyplot as plt\n",
        "import numpy as np\n",
        "import statsmodels.api as sm \n",
        "import seaborn as sns\n",
        "from sklearn.model_selection import cross_val_score\n",
        "from sklearn.linear_model import LogisticRegression\n",
        "from sklearn.metrics import accuracy_score\n",
        "from sklearn.model_selection import train_test_split\n",
        "from sklearn.metrics import roc_curve, auc, confusion_matrix"
      ],
      "execution_count": null,
      "outputs": [
        {
          "output_type": "stream",
          "text": [
            "/usr/local/lib/python3.7/dist-packages/statsmodels/tools/_testing.py:19: FutureWarning: pandas.util.testing is deprecated. Use the functions in the public API at pandas.testing instead.\n",
            "  import pandas.util.testing as tm\n"
          ],
          "name": "stderr"
        }
      ]
    },
    {
      "cell_type": "code",
      "metadata": {
        "id": "UQEeXKfQ8Xf9"
      },
      "source": [
        "# \n",
        "teste1  = pd.read_csv('testing.csv')\n",
        "treino1  = pd.read_csv('training.csv')\n",
        "preditores = pd.read_csv('reducedSet.csv')\n",
        "variaveis  = np.array(preditores['x'])\n",
        "treino = treino1[variaveis]\n",
        "teste =  teste1[variaveis]\n",
        "treino.insert(0,'Class' , treino1['Class'] )\n",
        "teste.insert(0,'Class'  , teste1['Class']  )"
      ],
      "execution_count": null,
      "outputs": []
    },
    {
      "cell_type": "markdown",
      "metadata": {
        "id": "KAnprS7qB2p7"
      },
      "source": [
        "# Questão 01"
      ]
    },
    {
      "cell_type": "markdown",
      "metadata": {
        "id": "_8Bv-hsZ8XgK"
      },
      "source": [
        "1-Use os preditores no conjunto de treinamento para aprender um modelo de classificação linear e testar o modelo usando o conjunto de teste. Para a tarefa, você deve selecionar uma classificação logística ou um método de análise discriminante linear. Quantos preditores você usaria para modelar o modelo? Depois de treinar o modelo, calcule a matriz de confusão e a fração geral das previsões corretas. Explique o que a matriz de confusão está dizendo a você sobre os tipos de classificações erradas feitas pelo método."
      ]
    },
    {
      "cell_type": "code",
      "metadata": {
        "id": "GOcjHxr-8XgM"
      },
      "source": [
        "X_train = treino.drop('Class',axis=1)\n",
        "y_train = treino['Class']\n",
        "X_test  = teste.drop('Class',axis=1)\n",
        "y_test  = teste['Class']\n",
        " "
      ],
      "execution_count": null,
      "outputs": []
    },
    {
      "cell_type": "code",
      "metadata": {
        "id": "YY3s7qeGaqSg"
      },
      "source": [
        "desempenhos = []"
      ],
      "execution_count": null,
      "outputs": []
    },
    {
      "cell_type": "code",
      "metadata": {
        "colab": {
          "base_uri": "https://localhost:8080/",
          "height": 244
        },
        "id": "P8Lh6uCrGCI5",
        "outputId": "ed0edf9d-7acd-43f2-cd44-6c72d025497b"
      },
      "source": [
        "data = pd.DataFrame({'Class': ['unsuccessful', 'successful']})\n",
        "X_train.head()"
      ],
      "execution_count": null,
      "outputs": [
        {
          "output_type": "execute_result",
          "data": {
            "text/html": [
              "<div>\n",
              "<style scoped>\n",
              "    .dataframe tbody tr th:only-of-type {\n",
              "        vertical-align: middle;\n",
              "    }\n",
              "\n",
              "    .dataframe tbody tr th {\n",
              "        vertical-align: top;\n",
              "    }\n",
              "\n",
              "    .dataframe thead th {\n",
              "        text-align: right;\n",
              "    }\n",
              "</style>\n",
              "<table border=\"1\" class=\"dataframe\">\n",
              "  <thead>\n",
              "    <tr style=\"text-align: right;\">\n",
              "      <th></th>\n",
              "      <th>NumCI</th>\n",
              "      <th>NumDR</th>\n",
              "      <th>NumECI</th>\n",
              "      <th>NumPS</th>\n",
              "      <th>NumSCI</th>\n",
              "      <th>NumSR</th>\n",
              "      <th>NumUNK</th>\n",
              "      <th>CI.1940</th>\n",
              "      <th>CI.1945</th>\n",
              "      <th>CI.1950</th>\n",
              "      <th>CI.1955</th>\n",
              "      <th>DR.1955</th>\n",
              "      <th>PS.1955</th>\n",
              "      <th>CI.1960</th>\n",
              "      <th>PS.1960</th>\n",
              "      <th>CI.1965</th>\n",
              "      <th>PS.1965</th>\n",
              "      <th>CI.1970</th>\n",
              "      <th>CI.1975</th>\n",
              "      <th>CI.1980</th>\n",
              "      <th>CI.AsiaPacific</th>\n",
              "      <th>CI.Australia</th>\n",
              "      <th>DR.Australia</th>\n",
              "      <th>PS.Australia</th>\n",
              "      <th>CI.EasternEurope</th>\n",
              "      <th>CI.GreatBritain</th>\n",
              "      <th>CI.MiddleEastandAfrica</th>\n",
              "      <th>CI.NewZealand</th>\n",
              "      <th>CI.NorthAmerica</th>\n",
              "      <th>CI.SouthAfrica</th>\n",
              "      <th>CI.TheAmericas</th>\n",
              "      <th>CI.WesternEurope</th>\n",
              "      <th>CI.English</th>\n",
              "      <th>DR.English</th>\n",
              "      <th>PS.English</th>\n",
              "      <th>CI.OtherLang</th>\n",
              "      <th>CI.PhD</th>\n",
              "      <th>DR.PhD</th>\n",
              "      <th>PS.PhD</th>\n",
              "      <th>Success.CI</th>\n",
              "      <th>...</th>\n",
              "      <th>Sponsor6B</th>\n",
              "      <th>Sponsor75C</th>\n",
              "      <th>Sponsor97A</th>\n",
              "      <th>ContractValueBandA</th>\n",
              "      <th>ContractValueBandB</th>\n",
              "      <th>ContractValueBandC</th>\n",
              "      <th>ContractValueBandD</th>\n",
              "      <th>ContractValueBandE</th>\n",
              "      <th>ContractValueBandF</th>\n",
              "      <th>ContractValueBandG</th>\n",
              "      <th>ContractValueBandH</th>\n",
              "      <th>ContractValueBandUnk</th>\n",
              "      <th>GrantCat10A</th>\n",
              "      <th>GrantCat10B</th>\n",
              "      <th>GrantCat20A</th>\n",
              "      <th>GrantCat20C</th>\n",
              "      <th>GrantCat30B</th>\n",
              "      <th>GrantCat30C</th>\n",
              "      <th>GrantCat30D</th>\n",
              "      <th>GrantCat30G</th>\n",
              "      <th>GrantCat50A</th>\n",
              "      <th>GrantCatUnk</th>\n",
              "      <th>Apr</th>\n",
              "      <th>Aug</th>\n",
              "      <th>Dec</th>\n",
              "      <th>Feb</th>\n",
              "      <th>Jan</th>\n",
              "      <th>Jul</th>\n",
              "      <th>Jun</th>\n",
              "      <th>May</th>\n",
              "      <th>Nov</th>\n",
              "      <th>Oct</th>\n",
              "      <th>Sep</th>\n",
              "      <th>Fri</th>\n",
              "      <th>Mon</th>\n",
              "      <th>Sat</th>\n",
              "      <th>Thurs</th>\n",
              "      <th>Tues</th>\n",
              "      <th>Wed</th>\n",
              "      <th>Day</th>\n",
              "    </tr>\n",
              "  </thead>\n",
              "  <tbody>\n",
              "    <tr>\n",
              "      <th>0</th>\n",
              "      <td>1</td>\n",
              "      <td>0</td>\n",
              "      <td>0</td>\n",
              "      <td>0</td>\n",
              "      <td>0</td>\n",
              "      <td>0</td>\n",
              "      <td>0</td>\n",
              "      <td>0</td>\n",
              "      <td>0</td>\n",
              "      <td>0</td>\n",
              "      <td>0</td>\n",
              "      <td>0</td>\n",
              "      <td>0</td>\n",
              "      <td>0</td>\n",
              "      <td>0</td>\n",
              "      <td>1</td>\n",
              "      <td>0</td>\n",
              "      <td>0</td>\n",
              "      <td>0</td>\n",
              "      <td>0</td>\n",
              "      <td>1</td>\n",
              "      <td>0</td>\n",
              "      <td>0</td>\n",
              "      <td>0</td>\n",
              "      <td>0</td>\n",
              "      <td>0</td>\n",
              "      <td>0</td>\n",
              "      <td>0</td>\n",
              "      <td>0</td>\n",
              "      <td>0</td>\n",
              "      <td>0</td>\n",
              "      <td>0</td>\n",
              "      <td>0</td>\n",
              "      <td>0</td>\n",
              "      <td>0</td>\n",
              "      <td>1</td>\n",
              "      <td>0</td>\n",
              "      <td>0</td>\n",
              "      <td>0</td>\n",
              "      <td>0</td>\n",
              "      <td>...</td>\n",
              "      <td>0</td>\n",
              "      <td>0</td>\n",
              "      <td>0</td>\n",
              "      <td>1</td>\n",
              "      <td>0</td>\n",
              "      <td>0</td>\n",
              "      <td>0</td>\n",
              "      <td>0</td>\n",
              "      <td>0</td>\n",
              "      <td>0</td>\n",
              "      <td>0</td>\n",
              "      <td>0</td>\n",
              "      <td>0</td>\n",
              "      <td>0</td>\n",
              "      <td>0</td>\n",
              "      <td>0</td>\n",
              "      <td>0</td>\n",
              "      <td>0</td>\n",
              "      <td>0</td>\n",
              "      <td>0</td>\n",
              "      <td>0</td>\n",
              "      <td>1</td>\n",
              "      <td>0</td>\n",
              "      <td>0</td>\n",
              "      <td>0</td>\n",
              "      <td>0</td>\n",
              "      <td>0</td>\n",
              "      <td>0</td>\n",
              "      <td>0</td>\n",
              "      <td>0</td>\n",
              "      <td>1</td>\n",
              "      <td>0</td>\n",
              "      <td>0</td>\n",
              "      <td>0</td>\n",
              "      <td>0</td>\n",
              "      <td>0</td>\n",
              "      <td>0</td>\n",
              "      <td>1</td>\n",
              "      <td>0</td>\n",
              "      <td>8</td>\n",
              "    </tr>\n",
              "    <tr>\n",
              "      <th>1</th>\n",
              "      <td>1</td>\n",
              "      <td>0</td>\n",
              "      <td>0</td>\n",
              "      <td>0</td>\n",
              "      <td>0</td>\n",
              "      <td>0</td>\n",
              "      <td>0</td>\n",
              "      <td>0</td>\n",
              "      <td>0</td>\n",
              "      <td>0</td>\n",
              "      <td>0</td>\n",
              "      <td>0</td>\n",
              "      <td>0</td>\n",
              "      <td>1</td>\n",
              "      <td>0</td>\n",
              "      <td>0</td>\n",
              "      <td>0</td>\n",
              "      <td>0</td>\n",
              "      <td>0</td>\n",
              "      <td>0</td>\n",
              "      <td>0</td>\n",
              "      <td>1</td>\n",
              "      <td>0</td>\n",
              "      <td>0</td>\n",
              "      <td>0</td>\n",
              "      <td>0</td>\n",
              "      <td>0</td>\n",
              "      <td>0</td>\n",
              "      <td>0</td>\n",
              "      <td>0</td>\n",
              "      <td>0</td>\n",
              "      <td>0</td>\n",
              "      <td>0</td>\n",
              "      <td>0</td>\n",
              "      <td>0</td>\n",
              "      <td>0</td>\n",
              "      <td>1</td>\n",
              "      <td>0</td>\n",
              "      <td>0</td>\n",
              "      <td>0</td>\n",
              "      <td>...</td>\n",
              "      <td>0</td>\n",
              "      <td>0</td>\n",
              "      <td>0</td>\n",
              "      <td>0</td>\n",
              "      <td>1</td>\n",
              "      <td>0</td>\n",
              "      <td>0</td>\n",
              "      <td>0</td>\n",
              "      <td>0</td>\n",
              "      <td>0</td>\n",
              "      <td>0</td>\n",
              "      <td>0</td>\n",
              "      <td>1</td>\n",
              "      <td>0</td>\n",
              "      <td>0</td>\n",
              "      <td>0</td>\n",
              "      <td>0</td>\n",
              "      <td>0</td>\n",
              "      <td>0</td>\n",
              "      <td>0</td>\n",
              "      <td>0</td>\n",
              "      <td>0</td>\n",
              "      <td>0</td>\n",
              "      <td>0</td>\n",
              "      <td>0</td>\n",
              "      <td>0</td>\n",
              "      <td>0</td>\n",
              "      <td>0</td>\n",
              "      <td>0</td>\n",
              "      <td>0</td>\n",
              "      <td>1</td>\n",
              "      <td>0</td>\n",
              "      <td>0</td>\n",
              "      <td>1</td>\n",
              "      <td>0</td>\n",
              "      <td>0</td>\n",
              "      <td>0</td>\n",
              "      <td>0</td>\n",
              "      <td>0</td>\n",
              "      <td>11</td>\n",
              "    </tr>\n",
              "    <tr>\n",
              "      <th>2</th>\n",
              "      <td>3</td>\n",
              "      <td>1</td>\n",
              "      <td>3</td>\n",
              "      <td>0</td>\n",
              "      <td>0</td>\n",
              "      <td>0</td>\n",
              "      <td>0</td>\n",
              "      <td>0</td>\n",
              "      <td>0</td>\n",
              "      <td>2</td>\n",
              "      <td>1</td>\n",
              "      <td>0</td>\n",
              "      <td>0</td>\n",
              "      <td>0</td>\n",
              "      <td>0</td>\n",
              "      <td>0</td>\n",
              "      <td>0</td>\n",
              "      <td>0</td>\n",
              "      <td>0</td>\n",
              "      <td>0</td>\n",
              "      <td>1</td>\n",
              "      <td>2</td>\n",
              "      <td>1</td>\n",
              "      <td>0</td>\n",
              "      <td>0</td>\n",
              "      <td>0</td>\n",
              "      <td>0</td>\n",
              "      <td>0</td>\n",
              "      <td>0</td>\n",
              "      <td>0</td>\n",
              "      <td>0</td>\n",
              "      <td>0</td>\n",
              "      <td>0</td>\n",
              "      <td>0</td>\n",
              "      <td>0</td>\n",
              "      <td>0</td>\n",
              "      <td>2</td>\n",
              "      <td>0</td>\n",
              "      <td>0</td>\n",
              "      <td>0</td>\n",
              "      <td>...</td>\n",
              "      <td>0</td>\n",
              "      <td>0</td>\n",
              "      <td>0</td>\n",
              "      <td>1</td>\n",
              "      <td>0</td>\n",
              "      <td>0</td>\n",
              "      <td>0</td>\n",
              "      <td>0</td>\n",
              "      <td>0</td>\n",
              "      <td>0</td>\n",
              "      <td>0</td>\n",
              "      <td>0</td>\n",
              "      <td>0</td>\n",
              "      <td>1</td>\n",
              "      <td>0</td>\n",
              "      <td>0</td>\n",
              "      <td>0</td>\n",
              "      <td>0</td>\n",
              "      <td>0</td>\n",
              "      <td>0</td>\n",
              "      <td>0</td>\n",
              "      <td>0</td>\n",
              "      <td>0</td>\n",
              "      <td>0</td>\n",
              "      <td>0</td>\n",
              "      <td>0</td>\n",
              "      <td>0</td>\n",
              "      <td>0</td>\n",
              "      <td>0</td>\n",
              "      <td>0</td>\n",
              "      <td>1</td>\n",
              "      <td>0</td>\n",
              "      <td>0</td>\n",
              "      <td>0</td>\n",
              "      <td>1</td>\n",
              "      <td>0</td>\n",
              "      <td>0</td>\n",
              "      <td>0</td>\n",
              "      <td>0</td>\n",
              "      <td>14</td>\n",
              "    </tr>\n",
              "    <tr>\n",
              "      <th>3</th>\n",
              "      <td>1</td>\n",
              "      <td>0</td>\n",
              "      <td>3</td>\n",
              "      <td>1</td>\n",
              "      <td>1</td>\n",
              "      <td>0</td>\n",
              "      <td>0</td>\n",
              "      <td>0</td>\n",
              "      <td>0</td>\n",
              "      <td>0</td>\n",
              "      <td>0</td>\n",
              "      <td>0</td>\n",
              "      <td>1</td>\n",
              "      <td>0</td>\n",
              "      <td>0</td>\n",
              "      <td>0</td>\n",
              "      <td>0</td>\n",
              "      <td>0</td>\n",
              "      <td>1</td>\n",
              "      <td>0</td>\n",
              "      <td>0</td>\n",
              "      <td>1</td>\n",
              "      <td>0</td>\n",
              "      <td>1</td>\n",
              "      <td>0</td>\n",
              "      <td>0</td>\n",
              "      <td>0</td>\n",
              "      <td>0</td>\n",
              "      <td>0</td>\n",
              "      <td>0</td>\n",
              "      <td>0</td>\n",
              "      <td>0</td>\n",
              "      <td>0</td>\n",
              "      <td>0</td>\n",
              "      <td>0</td>\n",
              "      <td>0</td>\n",
              "      <td>1</td>\n",
              "      <td>0</td>\n",
              "      <td>1</td>\n",
              "      <td>0</td>\n",
              "      <td>...</td>\n",
              "      <td>0</td>\n",
              "      <td>0</td>\n",
              "      <td>0</td>\n",
              "      <td>0</td>\n",
              "      <td>0</td>\n",
              "      <td>1</td>\n",
              "      <td>0</td>\n",
              "      <td>0</td>\n",
              "      <td>0</td>\n",
              "      <td>0</td>\n",
              "      <td>0</td>\n",
              "      <td>0</td>\n",
              "      <td>0</td>\n",
              "      <td>1</td>\n",
              "      <td>0</td>\n",
              "      <td>0</td>\n",
              "      <td>0</td>\n",
              "      <td>0</td>\n",
              "      <td>0</td>\n",
              "      <td>0</td>\n",
              "      <td>0</td>\n",
              "      <td>0</td>\n",
              "      <td>0</td>\n",
              "      <td>0</td>\n",
              "      <td>0</td>\n",
              "      <td>0</td>\n",
              "      <td>0</td>\n",
              "      <td>0</td>\n",
              "      <td>0</td>\n",
              "      <td>0</td>\n",
              "      <td>1</td>\n",
              "      <td>0</td>\n",
              "      <td>0</td>\n",
              "      <td>0</td>\n",
              "      <td>0</td>\n",
              "      <td>0</td>\n",
              "      <td>0</td>\n",
              "      <td>1</td>\n",
              "      <td>0</td>\n",
              "      <td>15</td>\n",
              "    </tr>\n",
              "    <tr>\n",
              "      <th>4</th>\n",
              "      <td>1</td>\n",
              "      <td>0</td>\n",
              "      <td>0</td>\n",
              "      <td>0</td>\n",
              "      <td>0</td>\n",
              "      <td>0</td>\n",
              "      <td>0</td>\n",
              "      <td>0</td>\n",
              "      <td>0</td>\n",
              "      <td>0</td>\n",
              "      <td>0</td>\n",
              "      <td>0</td>\n",
              "      <td>0</td>\n",
              "      <td>0</td>\n",
              "      <td>0</td>\n",
              "      <td>1</td>\n",
              "      <td>0</td>\n",
              "      <td>0</td>\n",
              "      <td>0</td>\n",
              "      <td>0</td>\n",
              "      <td>0</td>\n",
              "      <td>0</td>\n",
              "      <td>0</td>\n",
              "      <td>0</td>\n",
              "      <td>0</td>\n",
              "      <td>0</td>\n",
              "      <td>0</td>\n",
              "      <td>0</td>\n",
              "      <td>0</td>\n",
              "      <td>0</td>\n",
              "      <td>0</td>\n",
              "      <td>1</td>\n",
              "      <td>0</td>\n",
              "      <td>0</td>\n",
              "      <td>0</td>\n",
              "      <td>0</td>\n",
              "      <td>1</td>\n",
              "      <td>0</td>\n",
              "      <td>0</td>\n",
              "      <td>0</td>\n",
              "      <td>...</td>\n",
              "      <td>0</td>\n",
              "      <td>0</td>\n",
              "      <td>0</td>\n",
              "      <td>1</td>\n",
              "      <td>0</td>\n",
              "      <td>0</td>\n",
              "      <td>0</td>\n",
              "      <td>0</td>\n",
              "      <td>0</td>\n",
              "      <td>0</td>\n",
              "      <td>0</td>\n",
              "      <td>0</td>\n",
              "      <td>1</td>\n",
              "      <td>0</td>\n",
              "      <td>0</td>\n",
              "      <td>0</td>\n",
              "      <td>0</td>\n",
              "      <td>0</td>\n",
              "      <td>0</td>\n",
              "      <td>0</td>\n",
              "      <td>0</td>\n",
              "      <td>0</td>\n",
              "      <td>0</td>\n",
              "      <td>0</td>\n",
              "      <td>0</td>\n",
              "      <td>0</td>\n",
              "      <td>0</td>\n",
              "      <td>0</td>\n",
              "      <td>0</td>\n",
              "      <td>0</td>\n",
              "      <td>1</td>\n",
              "      <td>0</td>\n",
              "      <td>0</td>\n",
              "      <td>0</td>\n",
              "      <td>0</td>\n",
              "      <td>0</td>\n",
              "      <td>0</td>\n",
              "      <td>0</td>\n",
              "      <td>1</td>\n",
              "      <td>16</td>\n",
              "    </tr>\n",
              "  </tbody>\n",
              "</table>\n",
              "<p>5 rows × 252 columns</p>\n",
              "</div>"
            ],
            "text/plain": [
              "   NumCI  NumDR  NumECI  NumPS  NumSCI  NumSR  ...  Mon  Sat  Thurs  Tues  Wed  Day\n",
              "0      1      0       0      0       0      0  ...    0    0      0     1    0    8\n",
              "1      1      0       0      0       0      0  ...    0    0      0     0    0   11\n",
              "2      3      1       3      0       0      0  ...    1    0      0     0    0   14\n",
              "3      1      0       3      1       1      0  ...    0    0      0     1    0   15\n",
              "4      1      0       0      0       0      0  ...    0    0      0     0    1   16\n",
              "\n",
              "[5 rows x 252 columns]"
            ]
          },
          "metadata": {
            "tags": []
          },
          "execution_count": 5
        }
      ]
    },
    {
      "cell_type": "code",
      "metadata": {
        "colab": {
          "base_uri": "https://localhost:8080/",
          "height": 402
        },
        "id": "UkGjImejGM4G",
        "outputId": "5e1d9fcb-e4b7-4ea5-ff44-a500b78dfd39"
      },
      "source": [
        "# TALVEZ APAGAR #\n",
        "data = { \n",
        "  'Class': y_train,\n",
        "}\n",
        "dF_y_train = pd.DataFrame(data, columns= ['Class'])\n",
        "dF_y_train"
      ],
      "execution_count": null,
      "outputs": [
        {
          "output_type": "execute_result",
          "data": {
            "text/html": [
              "<div>\n",
              "<style scoped>\n",
              "    .dataframe tbody tr th:only-of-type {\n",
              "        vertical-align: middle;\n",
              "    }\n",
              "\n",
              "    .dataframe tbody tr th {\n",
              "        vertical-align: top;\n",
              "    }\n",
              "\n",
              "    .dataframe thead th {\n",
              "        text-align: right;\n",
              "    }\n",
              "</style>\n",
              "<table border=\"1\" class=\"dataframe\">\n",
              "  <thead>\n",
              "    <tr style=\"text-align: right;\">\n",
              "      <th></th>\n",
              "      <th>Class</th>\n",
              "    </tr>\n",
              "  </thead>\n",
              "  <tbody>\n",
              "    <tr>\n",
              "      <th>0</th>\n",
              "      <td>successful</td>\n",
              "    </tr>\n",
              "    <tr>\n",
              "      <th>1</th>\n",
              "      <td>successful</td>\n",
              "    </tr>\n",
              "    <tr>\n",
              "      <th>2</th>\n",
              "      <td>successful</td>\n",
              "    </tr>\n",
              "    <tr>\n",
              "      <th>3</th>\n",
              "      <td>successful</td>\n",
              "    </tr>\n",
              "    <tr>\n",
              "      <th>4</th>\n",
              "      <td>unsuccessful</td>\n",
              "    </tr>\n",
              "    <tr>\n",
              "      <th>...</th>\n",
              "      <td>...</td>\n",
              "    </tr>\n",
              "    <tr>\n",
              "      <th>8185</th>\n",
              "      <td>unsuccessful</td>\n",
              "    </tr>\n",
              "    <tr>\n",
              "      <th>8186</th>\n",
              "      <td>unsuccessful</td>\n",
              "    </tr>\n",
              "    <tr>\n",
              "      <th>8187</th>\n",
              "      <td>successful</td>\n",
              "    </tr>\n",
              "    <tr>\n",
              "      <th>8188</th>\n",
              "      <td>successful</td>\n",
              "    </tr>\n",
              "    <tr>\n",
              "      <th>8189</th>\n",
              "      <td>successful</td>\n",
              "    </tr>\n",
              "  </tbody>\n",
              "</table>\n",
              "<p>8190 rows × 1 columns</p>\n",
              "</div>"
            ],
            "text/plain": [
              "             Class\n",
              "0       successful\n",
              "1       successful\n",
              "2       successful\n",
              "3       successful\n",
              "4     unsuccessful\n",
              "...            ...\n",
              "8185  unsuccessful\n",
              "8186  unsuccessful\n",
              "8187    successful\n",
              "8188    successful\n",
              "8189    successful\n",
              "\n",
              "[8190 rows x 1 columns]"
            ]
          },
          "metadata": {
            "tags": []
          },
          "execution_count": 6
        }
      ]
    },
    {
      "cell_type": "code",
      "metadata": {
        "colab": {
          "base_uri": "https://localhost:8080/",
          "height": 402
        },
        "id": "wung2j84G5VH",
        "outputId": "31d6e351-e51d-43c4-af0d-d0b33beaf639"
      },
      "source": [
        "data = { \n",
        "  'Class': y_test,\n",
        "}\n",
        "dF_y_test = pd.DataFrame(data, columns= ['Class'])\n",
        "dF_y_test"
      ],
      "execution_count": null,
      "outputs": [
        {
          "output_type": "execute_result",
          "data": {
            "text/html": [
              "<div>\n",
              "<style scoped>\n",
              "    .dataframe tbody tr th:only-of-type {\n",
              "        vertical-align: middle;\n",
              "    }\n",
              "\n",
              "    .dataframe tbody tr th {\n",
              "        vertical-align: top;\n",
              "    }\n",
              "\n",
              "    .dataframe thead th {\n",
              "        text-align: right;\n",
              "    }\n",
              "</style>\n",
              "<table border=\"1\" class=\"dataframe\">\n",
              "  <thead>\n",
              "    <tr style=\"text-align: right;\">\n",
              "      <th></th>\n",
              "      <th>Class</th>\n",
              "    </tr>\n",
              "  </thead>\n",
              "  <tbody>\n",
              "    <tr>\n",
              "      <th>0</th>\n",
              "      <td>unsuccessful</td>\n",
              "    </tr>\n",
              "    <tr>\n",
              "      <th>1</th>\n",
              "      <td>unsuccessful</td>\n",
              "    </tr>\n",
              "    <tr>\n",
              "      <th>2</th>\n",
              "      <td>successful</td>\n",
              "    </tr>\n",
              "    <tr>\n",
              "      <th>3</th>\n",
              "      <td>successful</td>\n",
              "    </tr>\n",
              "    <tr>\n",
              "      <th>4</th>\n",
              "      <td>successful</td>\n",
              "    </tr>\n",
              "    <tr>\n",
              "      <th>...</th>\n",
              "      <td>...</td>\n",
              "    </tr>\n",
              "    <tr>\n",
              "      <th>513</th>\n",
              "      <td>unsuccessful</td>\n",
              "    </tr>\n",
              "    <tr>\n",
              "      <th>514</th>\n",
              "      <td>successful</td>\n",
              "    </tr>\n",
              "    <tr>\n",
              "      <th>515</th>\n",
              "      <td>successful</td>\n",
              "    </tr>\n",
              "    <tr>\n",
              "      <th>516</th>\n",
              "      <td>unsuccessful</td>\n",
              "    </tr>\n",
              "    <tr>\n",
              "      <th>517</th>\n",
              "      <td>successful</td>\n",
              "    </tr>\n",
              "  </tbody>\n",
              "</table>\n",
              "<p>518 rows × 1 columns</p>\n",
              "</div>"
            ],
            "text/plain": [
              "            Class\n",
              "0    unsuccessful\n",
              "1    unsuccessful\n",
              "2      successful\n",
              "3      successful\n",
              "4      successful\n",
              "..            ...\n",
              "513  unsuccessful\n",
              "514    successful\n",
              "515    successful\n",
              "516  unsuccessful\n",
              "517    successful\n",
              "\n",
              "[518 rows x 1 columns]"
            ]
          },
          "metadata": {
            "tags": []
          },
          "execution_count": 7
        }
      ]
    },
    {
      "cell_type": "code",
      "metadata": {
        "id": "8ZFg61FVEVXg"
      },
      "source": [
        "dF_y_train['Class'].replace({'unsuccessful':0, 'successful':1}, inplace=True)\n",
        "dF_y_test['Class'].replace({'unsuccessful':0, 'successful':1}, inplace=True)"
      ],
      "execution_count": null,
      "outputs": []
    },
    {
      "cell_type": "code",
      "metadata": {
        "colab": {
          "base_uri": "https://localhost:8080/",
          "height": 402
        },
        "id": "9C7sKG92E1RA",
        "outputId": "fe722ecd-764b-4cfc-fcfb-6262a09fbaca"
      },
      "source": [
        "dF_y_test"
      ],
      "execution_count": null,
      "outputs": [
        {
          "output_type": "execute_result",
          "data": {
            "text/html": [
              "<div>\n",
              "<style scoped>\n",
              "    .dataframe tbody tr th:only-of-type {\n",
              "        vertical-align: middle;\n",
              "    }\n",
              "\n",
              "    .dataframe tbody tr th {\n",
              "        vertical-align: top;\n",
              "    }\n",
              "\n",
              "    .dataframe thead th {\n",
              "        text-align: right;\n",
              "    }\n",
              "</style>\n",
              "<table border=\"1\" class=\"dataframe\">\n",
              "  <thead>\n",
              "    <tr style=\"text-align: right;\">\n",
              "      <th></th>\n",
              "      <th>Class</th>\n",
              "    </tr>\n",
              "  </thead>\n",
              "  <tbody>\n",
              "    <tr>\n",
              "      <th>0</th>\n",
              "      <td>0</td>\n",
              "    </tr>\n",
              "    <tr>\n",
              "      <th>1</th>\n",
              "      <td>0</td>\n",
              "    </tr>\n",
              "    <tr>\n",
              "      <th>2</th>\n",
              "      <td>1</td>\n",
              "    </tr>\n",
              "    <tr>\n",
              "      <th>3</th>\n",
              "      <td>1</td>\n",
              "    </tr>\n",
              "    <tr>\n",
              "      <th>4</th>\n",
              "      <td>1</td>\n",
              "    </tr>\n",
              "    <tr>\n",
              "      <th>...</th>\n",
              "      <td>...</td>\n",
              "    </tr>\n",
              "    <tr>\n",
              "      <th>513</th>\n",
              "      <td>0</td>\n",
              "    </tr>\n",
              "    <tr>\n",
              "      <th>514</th>\n",
              "      <td>1</td>\n",
              "    </tr>\n",
              "    <tr>\n",
              "      <th>515</th>\n",
              "      <td>1</td>\n",
              "    </tr>\n",
              "    <tr>\n",
              "      <th>516</th>\n",
              "      <td>0</td>\n",
              "    </tr>\n",
              "    <tr>\n",
              "      <th>517</th>\n",
              "      <td>1</td>\n",
              "    </tr>\n",
              "  </tbody>\n",
              "</table>\n",
              "<p>518 rows × 1 columns</p>\n",
              "</div>"
            ],
            "text/plain": [
              "     Class\n",
              "0        0\n",
              "1        0\n",
              "2        1\n",
              "3        1\n",
              "4        1\n",
              "..     ...\n",
              "513      0\n",
              "514      1\n",
              "515      1\n",
              "516      0\n",
              "517      1\n",
              "\n",
              "[518 rows x 1 columns]"
            ]
          },
          "metadata": {
            "tags": []
          },
          "execution_count": 9
        }
      ]
    },
    {
      "cell_type": "code",
      "metadata": {
        "colab": {
          "base_uri": "https://localhost:8080/"
        },
        "id": "zSL2XJXJ8XgO",
        "outputId": "b80ee6d5-5acb-4264-f160-aac63710413b"
      },
      "source": [
        "from sklearn.discriminant_analysis import LinearDiscriminantAnalysis\n",
        " \n",
        "\n",
        "#Discriminante linear\n",
        "lda = LinearDiscriminantAnalysis()\n",
        "lda.fit(X_train, dF_y_train['Class'].ravel())\n",
        "y_pred_lda = lda.predict(np.array(X_test))\n",
        "\n",
        "#Porcentagem de Classificação correta\n",
        "desempenhos.append(100*lda.score(X_test, dF_y_test))\n",
        "100*lda.score(X_test, dF_y_test)"
      ],
      "execution_count": null,
      "outputs": [
        {
          "output_type": "execute_result",
          "data": {
            "text/plain": [
              "84.94208494208493"
            ]
          },
          "metadata": {
            "tags": []
          },
          "execution_count": 10
        }
      ]
    },
    {
      "cell_type": "code",
      "metadata": {
        "colab": {
          "base_uri": "https://localhost:8080/"
        },
        "id": "X_GhthqsDImm",
        "outputId": "6433c621-67ee-4f13-a56c-b0a077e06690"
      },
      "source": [
        "log_confusion_matrix = confusion_matrix(dF_y_test, y_pred_lda)\n",
        "log_confusion_matrix "
      ],
      "execution_count": null,
      "outputs": [
        {
          "output_type": "execute_result",
          "data": {
            "text/plain": [
              "array([[284,  45],\n",
              "       [ 33, 156]])"
            ]
          },
          "metadata": {
            "tags": []
          },
          "execution_count": 11
        }
      ]
    },
    {
      "cell_type": "markdown",
      "metadata": {
        "id": "JajCe5zQFzMQ"
      },
      "source": [
        "O primeiro elemento é o não-sucedido, "
      ]
    },
    {
      "cell_type": "code",
      "metadata": {
        "colab": {
          "base_uri": "https://localhost:8080/",
          "height": 685
        },
        "id": "jF8bG0mX8Xgb",
        "outputId": "0b3f98ce-4a71-4fd3-c6d5-7df2957b2a6b"
      },
      "source": [
        "def logi(dados1, dados2):\n",
        "    X_train = dados1.drop('Class',axis=1)\n",
        "    y_train = dados1['Class']\n",
        "    X_test = dados2.drop('Class',axis=1)\n",
        "    y_test = dados2['Class']\n",
        "    lda = LinearDiscriminantAnalysis()\n",
        "    lda.fit(X_train, dF_y_train['Class'].ravel())\n",
        "    y_pred_lda = lda.predict(np.array(X_test))\n",
        "    #Porcetagem de Classificação correta\n",
        "    return 100*lda.score(X_test, y_test)\n",
        "\n",
        "frame =[]\n",
        "acc = []\n",
        "dados_l = pd.concat([dF_y_train['Class']], axis=1, keys=['Class'])\n",
        "dados_l2 = pd.concat([dF_y_test['Class']], axis=1, keys=['Class'])\n",
        "\n",
        "for i in range(0,251):\n",
        "    dados_l.insert(i+1, preditores['x'][i], treino[preditores['x'][i]])\n",
        "    dados_l2.insert(i+1, preditores['x'][i], teste[preditores['x'][i]])\n",
        "    acc.append(logi(dados_l, dados_l2))\n",
        "\n",
        "plt.plot(np.array(acc),color='b')\n",
        "\n",
        "plt.ylabel('Acurácia (%)')\n",
        "#plt.xticks([0,1,2,3,4,5,6,7],frame,rotation=90)\n",
        "plt.xlabel('Número de preditores')\n",
        "dados_l"
      ],
      "execution_count": null,
      "outputs": [
        {
          "output_type": "execute_result",
          "data": {
            "text/html": [
              "<div>\n",
              "<style scoped>\n",
              "    .dataframe tbody tr th:only-of-type {\n",
              "        vertical-align: middle;\n",
              "    }\n",
              "\n",
              "    .dataframe tbody tr th {\n",
              "        vertical-align: top;\n",
              "    }\n",
              "\n",
              "    .dataframe thead th {\n",
              "        text-align: right;\n",
              "    }\n",
              "</style>\n",
              "<table border=\"1\" class=\"dataframe\">\n",
              "  <thead>\n",
              "    <tr style=\"text-align: right;\">\n",
              "      <th></th>\n",
              "      <th>Class</th>\n",
              "      <th>NumCI</th>\n",
              "      <th>NumDR</th>\n",
              "      <th>NumECI</th>\n",
              "      <th>NumPS</th>\n",
              "      <th>NumSCI</th>\n",
              "      <th>NumSR</th>\n",
              "      <th>NumUNK</th>\n",
              "      <th>CI.1940</th>\n",
              "      <th>CI.1945</th>\n",
              "      <th>CI.1950</th>\n",
              "      <th>CI.1955</th>\n",
              "      <th>DR.1955</th>\n",
              "      <th>PS.1955</th>\n",
              "      <th>CI.1960</th>\n",
              "      <th>PS.1960</th>\n",
              "      <th>CI.1965</th>\n",
              "      <th>PS.1965</th>\n",
              "      <th>CI.1970</th>\n",
              "      <th>CI.1975</th>\n",
              "      <th>CI.1980</th>\n",
              "      <th>CI.AsiaPacific</th>\n",
              "      <th>CI.Australia</th>\n",
              "      <th>DR.Australia</th>\n",
              "      <th>PS.Australia</th>\n",
              "      <th>CI.EasternEurope</th>\n",
              "      <th>CI.GreatBritain</th>\n",
              "      <th>CI.MiddleEastandAfrica</th>\n",
              "      <th>CI.NewZealand</th>\n",
              "      <th>CI.NorthAmerica</th>\n",
              "      <th>CI.SouthAfrica</th>\n",
              "      <th>CI.TheAmericas</th>\n",
              "      <th>CI.WesternEurope</th>\n",
              "      <th>CI.English</th>\n",
              "      <th>DR.English</th>\n",
              "      <th>PS.English</th>\n",
              "      <th>CI.OtherLang</th>\n",
              "      <th>CI.PhD</th>\n",
              "      <th>DR.PhD</th>\n",
              "      <th>PS.PhD</th>\n",
              "      <th>...</th>\n",
              "      <th>Sponsor62B</th>\n",
              "      <th>Sponsor6B</th>\n",
              "      <th>Sponsor75C</th>\n",
              "      <th>Sponsor97A</th>\n",
              "      <th>ContractValueBandA</th>\n",
              "      <th>ContractValueBandB</th>\n",
              "      <th>ContractValueBandC</th>\n",
              "      <th>ContractValueBandD</th>\n",
              "      <th>ContractValueBandE</th>\n",
              "      <th>ContractValueBandF</th>\n",
              "      <th>ContractValueBandG</th>\n",
              "      <th>ContractValueBandH</th>\n",
              "      <th>ContractValueBandUnk</th>\n",
              "      <th>GrantCat10A</th>\n",
              "      <th>GrantCat10B</th>\n",
              "      <th>GrantCat20A</th>\n",
              "      <th>GrantCat20C</th>\n",
              "      <th>GrantCat30B</th>\n",
              "      <th>GrantCat30C</th>\n",
              "      <th>GrantCat30D</th>\n",
              "      <th>GrantCat30G</th>\n",
              "      <th>GrantCat50A</th>\n",
              "      <th>GrantCatUnk</th>\n",
              "      <th>Apr</th>\n",
              "      <th>Aug</th>\n",
              "      <th>Dec</th>\n",
              "      <th>Feb</th>\n",
              "      <th>Jan</th>\n",
              "      <th>Jul</th>\n",
              "      <th>Jun</th>\n",
              "      <th>May</th>\n",
              "      <th>Nov</th>\n",
              "      <th>Oct</th>\n",
              "      <th>Sep</th>\n",
              "      <th>Fri</th>\n",
              "      <th>Mon</th>\n",
              "      <th>Sat</th>\n",
              "      <th>Thurs</th>\n",
              "      <th>Tues</th>\n",
              "      <th>Wed</th>\n",
              "    </tr>\n",
              "  </thead>\n",
              "  <tbody>\n",
              "    <tr>\n",
              "      <th>0</th>\n",
              "      <td>1</td>\n",
              "      <td>1</td>\n",
              "      <td>0</td>\n",
              "      <td>0</td>\n",
              "      <td>0</td>\n",
              "      <td>0</td>\n",
              "      <td>0</td>\n",
              "      <td>0</td>\n",
              "      <td>0</td>\n",
              "      <td>0</td>\n",
              "      <td>0</td>\n",
              "      <td>0</td>\n",
              "      <td>0</td>\n",
              "      <td>0</td>\n",
              "      <td>0</td>\n",
              "      <td>0</td>\n",
              "      <td>1</td>\n",
              "      <td>0</td>\n",
              "      <td>0</td>\n",
              "      <td>0</td>\n",
              "      <td>0</td>\n",
              "      <td>1</td>\n",
              "      <td>0</td>\n",
              "      <td>0</td>\n",
              "      <td>0</td>\n",
              "      <td>0</td>\n",
              "      <td>0</td>\n",
              "      <td>0</td>\n",
              "      <td>0</td>\n",
              "      <td>0</td>\n",
              "      <td>0</td>\n",
              "      <td>0</td>\n",
              "      <td>0</td>\n",
              "      <td>0</td>\n",
              "      <td>0</td>\n",
              "      <td>0</td>\n",
              "      <td>1</td>\n",
              "      <td>0</td>\n",
              "      <td>0</td>\n",
              "      <td>0</td>\n",
              "      <td>...</td>\n",
              "      <td>0</td>\n",
              "      <td>0</td>\n",
              "      <td>0</td>\n",
              "      <td>0</td>\n",
              "      <td>1</td>\n",
              "      <td>0</td>\n",
              "      <td>0</td>\n",
              "      <td>0</td>\n",
              "      <td>0</td>\n",
              "      <td>0</td>\n",
              "      <td>0</td>\n",
              "      <td>0</td>\n",
              "      <td>0</td>\n",
              "      <td>0</td>\n",
              "      <td>0</td>\n",
              "      <td>0</td>\n",
              "      <td>0</td>\n",
              "      <td>0</td>\n",
              "      <td>0</td>\n",
              "      <td>0</td>\n",
              "      <td>0</td>\n",
              "      <td>0</td>\n",
              "      <td>1</td>\n",
              "      <td>0</td>\n",
              "      <td>0</td>\n",
              "      <td>0</td>\n",
              "      <td>0</td>\n",
              "      <td>0</td>\n",
              "      <td>0</td>\n",
              "      <td>0</td>\n",
              "      <td>0</td>\n",
              "      <td>1</td>\n",
              "      <td>0</td>\n",
              "      <td>0</td>\n",
              "      <td>0</td>\n",
              "      <td>0</td>\n",
              "      <td>0</td>\n",
              "      <td>0</td>\n",
              "      <td>1</td>\n",
              "      <td>0</td>\n",
              "    </tr>\n",
              "    <tr>\n",
              "      <th>1</th>\n",
              "      <td>1</td>\n",
              "      <td>1</td>\n",
              "      <td>0</td>\n",
              "      <td>0</td>\n",
              "      <td>0</td>\n",
              "      <td>0</td>\n",
              "      <td>0</td>\n",
              "      <td>0</td>\n",
              "      <td>0</td>\n",
              "      <td>0</td>\n",
              "      <td>0</td>\n",
              "      <td>0</td>\n",
              "      <td>0</td>\n",
              "      <td>0</td>\n",
              "      <td>1</td>\n",
              "      <td>0</td>\n",
              "      <td>0</td>\n",
              "      <td>0</td>\n",
              "      <td>0</td>\n",
              "      <td>0</td>\n",
              "      <td>0</td>\n",
              "      <td>0</td>\n",
              "      <td>1</td>\n",
              "      <td>0</td>\n",
              "      <td>0</td>\n",
              "      <td>0</td>\n",
              "      <td>0</td>\n",
              "      <td>0</td>\n",
              "      <td>0</td>\n",
              "      <td>0</td>\n",
              "      <td>0</td>\n",
              "      <td>0</td>\n",
              "      <td>0</td>\n",
              "      <td>0</td>\n",
              "      <td>0</td>\n",
              "      <td>0</td>\n",
              "      <td>0</td>\n",
              "      <td>1</td>\n",
              "      <td>0</td>\n",
              "      <td>0</td>\n",
              "      <td>...</td>\n",
              "      <td>0</td>\n",
              "      <td>0</td>\n",
              "      <td>0</td>\n",
              "      <td>0</td>\n",
              "      <td>0</td>\n",
              "      <td>1</td>\n",
              "      <td>0</td>\n",
              "      <td>0</td>\n",
              "      <td>0</td>\n",
              "      <td>0</td>\n",
              "      <td>0</td>\n",
              "      <td>0</td>\n",
              "      <td>0</td>\n",
              "      <td>1</td>\n",
              "      <td>0</td>\n",
              "      <td>0</td>\n",
              "      <td>0</td>\n",
              "      <td>0</td>\n",
              "      <td>0</td>\n",
              "      <td>0</td>\n",
              "      <td>0</td>\n",
              "      <td>0</td>\n",
              "      <td>0</td>\n",
              "      <td>0</td>\n",
              "      <td>0</td>\n",
              "      <td>0</td>\n",
              "      <td>0</td>\n",
              "      <td>0</td>\n",
              "      <td>0</td>\n",
              "      <td>0</td>\n",
              "      <td>0</td>\n",
              "      <td>1</td>\n",
              "      <td>0</td>\n",
              "      <td>0</td>\n",
              "      <td>1</td>\n",
              "      <td>0</td>\n",
              "      <td>0</td>\n",
              "      <td>0</td>\n",
              "      <td>0</td>\n",
              "      <td>0</td>\n",
              "    </tr>\n",
              "    <tr>\n",
              "      <th>2</th>\n",
              "      <td>1</td>\n",
              "      <td>3</td>\n",
              "      <td>1</td>\n",
              "      <td>3</td>\n",
              "      <td>0</td>\n",
              "      <td>0</td>\n",
              "      <td>0</td>\n",
              "      <td>0</td>\n",
              "      <td>0</td>\n",
              "      <td>0</td>\n",
              "      <td>2</td>\n",
              "      <td>1</td>\n",
              "      <td>0</td>\n",
              "      <td>0</td>\n",
              "      <td>0</td>\n",
              "      <td>0</td>\n",
              "      <td>0</td>\n",
              "      <td>0</td>\n",
              "      <td>0</td>\n",
              "      <td>0</td>\n",
              "      <td>0</td>\n",
              "      <td>1</td>\n",
              "      <td>2</td>\n",
              "      <td>1</td>\n",
              "      <td>0</td>\n",
              "      <td>0</td>\n",
              "      <td>0</td>\n",
              "      <td>0</td>\n",
              "      <td>0</td>\n",
              "      <td>0</td>\n",
              "      <td>0</td>\n",
              "      <td>0</td>\n",
              "      <td>0</td>\n",
              "      <td>0</td>\n",
              "      <td>0</td>\n",
              "      <td>0</td>\n",
              "      <td>0</td>\n",
              "      <td>2</td>\n",
              "      <td>0</td>\n",
              "      <td>0</td>\n",
              "      <td>...</td>\n",
              "      <td>0</td>\n",
              "      <td>0</td>\n",
              "      <td>0</td>\n",
              "      <td>0</td>\n",
              "      <td>1</td>\n",
              "      <td>0</td>\n",
              "      <td>0</td>\n",
              "      <td>0</td>\n",
              "      <td>0</td>\n",
              "      <td>0</td>\n",
              "      <td>0</td>\n",
              "      <td>0</td>\n",
              "      <td>0</td>\n",
              "      <td>0</td>\n",
              "      <td>1</td>\n",
              "      <td>0</td>\n",
              "      <td>0</td>\n",
              "      <td>0</td>\n",
              "      <td>0</td>\n",
              "      <td>0</td>\n",
              "      <td>0</td>\n",
              "      <td>0</td>\n",
              "      <td>0</td>\n",
              "      <td>0</td>\n",
              "      <td>0</td>\n",
              "      <td>0</td>\n",
              "      <td>0</td>\n",
              "      <td>0</td>\n",
              "      <td>0</td>\n",
              "      <td>0</td>\n",
              "      <td>0</td>\n",
              "      <td>1</td>\n",
              "      <td>0</td>\n",
              "      <td>0</td>\n",
              "      <td>0</td>\n",
              "      <td>1</td>\n",
              "      <td>0</td>\n",
              "      <td>0</td>\n",
              "      <td>0</td>\n",
              "      <td>0</td>\n",
              "    </tr>\n",
              "    <tr>\n",
              "      <th>3</th>\n",
              "      <td>1</td>\n",
              "      <td>1</td>\n",
              "      <td>0</td>\n",
              "      <td>3</td>\n",
              "      <td>1</td>\n",
              "      <td>1</td>\n",
              "      <td>0</td>\n",
              "      <td>0</td>\n",
              "      <td>0</td>\n",
              "      <td>0</td>\n",
              "      <td>0</td>\n",
              "      <td>0</td>\n",
              "      <td>0</td>\n",
              "      <td>1</td>\n",
              "      <td>0</td>\n",
              "      <td>0</td>\n",
              "      <td>0</td>\n",
              "      <td>0</td>\n",
              "      <td>0</td>\n",
              "      <td>1</td>\n",
              "      <td>0</td>\n",
              "      <td>0</td>\n",
              "      <td>1</td>\n",
              "      <td>0</td>\n",
              "      <td>1</td>\n",
              "      <td>0</td>\n",
              "      <td>0</td>\n",
              "      <td>0</td>\n",
              "      <td>0</td>\n",
              "      <td>0</td>\n",
              "      <td>0</td>\n",
              "      <td>0</td>\n",
              "      <td>0</td>\n",
              "      <td>0</td>\n",
              "      <td>0</td>\n",
              "      <td>0</td>\n",
              "      <td>0</td>\n",
              "      <td>1</td>\n",
              "      <td>0</td>\n",
              "      <td>1</td>\n",
              "      <td>...</td>\n",
              "      <td>0</td>\n",
              "      <td>0</td>\n",
              "      <td>0</td>\n",
              "      <td>0</td>\n",
              "      <td>0</td>\n",
              "      <td>0</td>\n",
              "      <td>1</td>\n",
              "      <td>0</td>\n",
              "      <td>0</td>\n",
              "      <td>0</td>\n",
              "      <td>0</td>\n",
              "      <td>0</td>\n",
              "      <td>0</td>\n",
              "      <td>0</td>\n",
              "      <td>1</td>\n",
              "      <td>0</td>\n",
              "      <td>0</td>\n",
              "      <td>0</td>\n",
              "      <td>0</td>\n",
              "      <td>0</td>\n",
              "      <td>0</td>\n",
              "      <td>0</td>\n",
              "      <td>0</td>\n",
              "      <td>0</td>\n",
              "      <td>0</td>\n",
              "      <td>0</td>\n",
              "      <td>0</td>\n",
              "      <td>0</td>\n",
              "      <td>0</td>\n",
              "      <td>0</td>\n",
              "      <td>0</td>\n",
              "      <td>1</td>\n",
              "      <td>0</td>\n",
              "      <td>0</td>\n",
              "      <td>0</td>\n",
              "      <td>0</td>\n",
              "      <td>0</td>\n",
              "      <td>0</td>\n",
              "      <td>1</td>\n",
              "      <td>0</td>\n",
              "    </tr>\n",
              "    <tr>\n",
              "      <th>4</th>\n",
              "      <td>0</td>\n",
              "      <td>1</td>\n",
              "      <td>0</td>\n",
              "      <td>0</td>\n",
              "      <td>0</td>\n",
              "      <td>0</td>\n",
              "      <td>0</td>\n",
              "      <td>0</td>\n",
              "      <td>0</td>\n",
              "      <td>0</td>\n",
              "      <td>0</td>\n",
              "      <td>0</td>\n",
              "      <td>0</td>\n",
              "      <td>0</td>\n",
              "      <td>0</td>\n",
              "      <td>0</td>\n",
              "      <td>1</td>\n",
              "      <td>0</td>\n",
              "      <td>0</td>\n",
              "      <td>0</td>\n",
              "      <td>0</td>\n",
              "      <td>0</td>\n",
              "      <td>0</td>\n",
              "      <td>0</td>\n",
              "      <td>0</td>\n",
              "      <td>0</td>\n",
              "      <td>0</td>\n",
              "      <td>0</td>\n",
              "      <td>0</td>\n",
              "      <td>0</td>\n",
              "      <td>0</td>\n",
              "      <td>0</td>\n",
              "      <td>1</td>\n",
              "      <td>0</td>\n",
              "      <td>0</td>\n",
              "      <td>0</td>\n",
              "      <td>0</td>\n",
              "      <td>1</td>\n",
              "      <td>0</td>\n",
              "      <td>0</td>\n",
              "      <td>...</td>\n",
              "      <td>0</td>\n",
              "      <td>0</td>\n",
              "      <td>0</td>\n",
              "      <td>0</td>\n",
              "      <td>1</td>\n",
              "      <td>0</td>\n",
              "      <td>0</td>\n",
              "      <td>0</td>\n",
              "      <td>0</td>\n",
              "      <td>0</td>\n",
              "      <td>0</td>\n",
              "      <td>0</td>\n",
              "      <td>0</td>\n",
              "      <td>1</td>\n",
              "      <td>0</td>\n",
              "      <td>0</td>\n",
              "      <td>0</td>\n",
              "      <td>0</td>\n",
              "      <td>0</td>\n",
              "      <td>0</td>\n",
              "      <td>0</td>\n",
              "      <td>0</td>\n",
              "      <td>0</td>\n",
              "      <td>0</td>\n",
              "      <td>0</td>\n",
              "      <td>0</td>\n",
              "      <td>0</td>\n",
              "      <td>0</td>\n",
              "      <td>0</td>\n",
              "      <td>0</td>\n",
              "      <td>0</td>\n",
              "      <td>1</td>\n",
              "      <td>0</td>\n",
              "      <td>0</td>\n",
              "      <td>0</td>\n",
              "      <td>0</td>\n",
              "      <td>0</td>\n",
              "      <td>0</td>\n",
              "      <td>0</td>\n",
              "      <td>1</td>\n",
              "    </tr>\n",
              "    <tr>\n",
              "      <th>...</th>\n",
              "      <td>...</td>\n",
              "      <td>...</td>\n",
              "      <td>...</td>\n",
              "      <td>...</td>\n",
              "      <td>...</td>\n",
              "      <td>...</td>\n",
              "      <td>...</td>\n",
              "      <td>...</td>\n",
              "      <td>...</td>\n",
              "      <td>...</td>\n",
              "      <td>...</td>\n",
              "      <td>...</td>\n",
              "      <td>...</td>\n",
              "      <td>...</td>\n",
              "      <td>...</td>\n",
              "      <td>...</td>\n",
              "      <td>...</td>\n",
              "      <td>...</td>\n",
              "      <td>...</td>\n",
              "      <td>...</td>\n",
              "      <td>...</td>\n",
              "      <td>...</td>\n",
              "      <td>...</td>\n",
              "      <td>...</td>\n",
              "      <td>...</td>\n",
              "      <td>...</td>\n",
              "      <td>...</td>\n",
              "      <td>...</td>\n",
              "      <td>...</td>\n",
              "      <td>...</td>\n",
              "      <td>...</td>\n",
              "      <td>...</td>\n",
              "      <td>...</td>\n",
              "      <td>...</td>\n",
              "      <td>...</td>\n",
              "      <td>...</td>\n",
              "      <td>...</td>\n",
              "      <td>...</td>\n",
              "      <td>...</td>\n",
              "      <td>...</td>\n",
              "      <td>...</td>\n",
              "      <td>...</td>\n",
              "      <td>...</td>\n",
              "      <td>...</td>\n",
              "      <td>...</td>\n",
              "      <td>...</td>\n",
              "      <td>...</td>\n",
              "      <td>...</td>\n",
              "      <td>...</td>\n",
              "      <td>...</td>\n",
              "      <td>...</td>\n",
              "      <td>...</td>\n",
              "      <td>...</td>\n",
              "      <td>...</td>\n",
              "      <td>...</td>\n",
              "      <td>...</td>\n",
              "      <td>...</td>\n",
              "      <td>...</td>\n",
              "      <td>...</td>\n",
              "      <td>...</td>\n",
              "      <td>...</td>\n",
              "      <td>...</td>\n",
              "      <td>...</td>\n",
              "      <td>...</td>\n",
              "      <td>...</td>\n",
              "      <td>...</td>\n",
              "      <td>...</td>\n",
              "      <td>...</td>\n",
              "      <td>...</td>\n",
              "      <td>...</td>\n",
              "      <td>...</td>\n",
              "      <td>...</td>\n",
              "      <td>...</td>\n",
              "      <td>...</td>\n",
              "      <td>...</td>\n",
              "      <td>...</td>\n",
              "      <td>...</td>\n",
              "      <td>...</td>\n",
              "      <td>...</td>\n",
              "      <td>...</td>\n",
              "      <td>...</td>\n",
              "    </tr>\n",
              "    <tr>\n",
              "      <th>8185</th>\n",
              "      <td>0</td>\n",
              "      <td>2</td>\n",
              "      <td>0</td>\n",
              "      <td>0</td>\n",
              "      <td>0</td>\n",
              "      <td>0</td>\n",
              "      <td>0</td>\n",
              "      <td>0</td>\n",
              "      <td>0</td>\n",
              "      <td>0</td>\n",
              "      <td>0</td>\n",
              "      <td>0</td>\n",
              "      <td>0</td>\n",
              "      <td>0</td>\n",
              "      <td>2</td>\n",
              "      <td>0</td>\n",
              "      <td>0</td>\n",
              "      <td>0</td>\n",
              "      <td>0</td>\n",
              "      <td>0</td>\n",
              "      <td>0</td>\n",
              "      <td>0</td>\n",
              "      <td>1</td>\n",
              "      <td>0</td>\n",
              "      <td>0</td>\n",
              "      <td>0</td>\n",
              "      <td>0</td>\n",
              "      <td>0</td>\n",
              "      <td>0</td>\n",
              "      <td>1</td>\n",
              "      <td>0</td>\n",
              "      <td>0</td>\n",
              "      <td>0</td>\n",
              "      <td>0</td>\n",
              "      <td>0</td>\n",
              "      <td>0</td>\n",
              "      <td>0</td>\n",
              "      <td>1</td>\n",
              "      <td>0</td>\n",
              "      <td>0</td>\n",
              "      <td>...</td>\n",
              "      <td>0</td>\n",
              "      <td>0</td>\n",
              "      <td>0</td>\n",
              "      <td>0</td>\n",
              "      <td>0</td>\n",
              "      <td>0</td>\n",
              "      <td>0</td>\n",
              "      <td>0</td>\n",
              "      <td>0</td>\n",
              "      <td>0</td>\n",
              "      <td>0</td>\n",
              "      <td>0</td>\n",
              "      <td>1</td>\n",
              "      <td>0</td>\n",
              "      <td>0</td>\n",
              "      <td>0</td>\n",
              "      <td>0</td>\n",
              "      <td>0</td>\n",
              "      <td>0</td>\n",
              "      <td>1</td>\n",
              "      <td>0</td>\n",
              "      <td>0</td>\n",
              "      <td>0</td>\n",
              "      <td>0</td>\n",
              "      <td>0</td>\n",
              "      <td>1</td>\n",
              "      <td>0</td>\n",
              "      <td>0</td>\n",
              "      <td>0</td>\n",
              "      <td>0</td>\n",
              "      <td>0</td>\n",
              "      <td>0</td>\n",
              "      <td>0</td>\n",
              "      <td>0</td>\n",
              "      <td>0</td>\n",
              "      <td>0</td>\n",
              "      <td>0</td>\n",
              "      <td>0</td>\n",
              "      <td>1</td>\n",
              "      <td>0</td>\n",
              "    </tr>\n",
              "    <tr>\n",
              "      <th>8186</th>\n",
              "      <td>0</td>\n",
              "      <td>1</td>\n",
              "      <td>0</td>\n",
              "      <td>0</td>\n",
              "      <td>0</td>\n",
              "      <td>0</td>\n",
              "      <td>0</td>\n",
              "      <td>0</td>\n",
              "      <td>0</td>\n",
              "      <td>0</td>\n",
              "      <td>0</td>\n",
              "      <td>1</td>\n",
              "      <td>0</td>\n",
              "      <td>0</td>\n",
              "      <td>0</td>\n",
              "      <td>0</td>\n",
              "      <td>0</td>\n",
              "      <td>0</td>\n",
              "      <td>0</td>\n",
              "      <td>0</td>\n",
              "      <td>0</td>\n",
              "      <td>0</td>\n",
              "      <td>1</td>\n",
              "      <td>0</td>\n",
              "      <td>0</td>\n",
              "      <td>0</td>\n",
              "      <td>0</td>\n",
              "      <td>0</td>\n",
              "      <td>0</td>\n",
              "      <td>0</td>\n",
              "      <td>0</td>\n",
              "      <td>0</td>\n",
              "      <td>0</td>\n",
              "      <td>0</td>\n",
              "      <td>0</td>\n",
              "      <td>0</td>\n",
              "      <td>0</td>\n",
              "      <td>1</td>\n",
              "      <td>0</td>\n",
              "      <td>0</td>\n",
              "      <td>...</td>\n",
              "      <td>0</td>\n",
              "      <td>0</td>\n",
              "      <td>0</td>\n",
              "      <td>0</td>\n",
              "      <td>0</td>\n",
              "      <td>0</td>\n",
              "      <td>0</td>\n",
              "      <td>0</td>\n",
              "      <td>0</td>\n",
              "      <td>0</td>\n",
              "      <td>0</td>\n",
              "      <td>0</td>\n",
              "      <td>1</td>\n",
              "      <td>1</td>\n",
              "      <td>0</td>\n",
              "      <td>0</td>\n",
              "      <td>0</td>\n",
              "      <td>0</td>\n",
              "      <td>0</td>\n",
              "      <td>0</td>\n",
              "      <td>0</td>\n",
              "      <td>0</td>\n",
              "      <td>0</td>\n",
              "      <td>0</td>\n",
              "      <td>0</td>\n",
              "      <td>1</td>\n",
              "      <td>0</td>\n",
              "      <td>0</td>\n",
              "      <td>0</td>\n",
              "      <td>0</td>\n",
              "      <td>0</td>\n",
              "      <td>0</td>\n",
              "      <td>0</td>\n",
              "      <td>0</td>\n",
              "      <td>0</td>\n",
              "      <td>0</td>\n",
              "      <td>0</td>\n",
              "      <td>0</td>\n",
              "      <td>1</td>\n",
              "      <td>0</td>\n",
              "    </tr>\n",
              "    <tr>\n",
              "      <th>8187</th>\n",
              "      <td>1</td>\n",
              "      <td>1</td>\n",
              "      <td>0</td>\n",
              "      <td>0</td>\n",
              "      <td>0</td>\n",
              "      <td>0</td>\n",
              "      <td>0</td>\n",
              "      <td>0</td>\n",
              "      <td>0</td>\n",
              "      <td>0</td>\n",
              "      <td>0</td>\n",
              "      <td>0</td>\n",
              "      <td>0</td>\n",
              "      <td>0</td>\n",
              "      <td>0</td>\n",
              "      <td>0</td>\n",
              "      <td>0</td>\n",
              "      <td>0</td>\n",
              "      <td>1</td>\n",
              "      <td>0</td>\n",
              "      <td>0</td>\n",
              "      <td>0</td>\n",
              "      <td>1</td>\n",
              "      <td>0</td>\n",
              "      <td>0</td>\n",
              "      <td>0</td>\n",
              "      <td>0</td>\n",
              "      <td>0</td>\n",
              "      <td>0</td>\n",
              "      <td>0</td>\n",
              "      <td>0</td>\n",
              "      <td>0</td>\n",
              "      <td>0</td>\n",
              "      <td>0</td>\n",
              "      <td>0</td>\n",
              "      <td>0</td>\n",
              "      <td>0</td>\n",
              "      <td>1</td>\n",
              "      <td>0</td>\n",
              "      <td>0</td>\n",
              "      <td>...</td>\n",
              "      <td>0</td>\n",
              "      <td>0</td>\n",
              "      <td>0</td>\n",
              "      <td>0</td>\n",
              "      <td>1</td>\n",
              "      <td>0</td>\n",
              "      <td>0</td>\n",
              "      <td>0</td>\n",
              "      <td>0</td>\n",
              "      <td>0</td>\n",
              "      <td>0</td>\n",
              "      <td>0</td>\n",
              "      <td>0</td>\n",
              "      <td>0</td>\n",
              "      <td>0</td>\n",
              "      <td>0</td>\n",
              "      <td>0</td>\n",
              "      <td>0</td>\n",
              "      <td>0</td>\n",
              "      <td>0</td>\n",
              "      <td>0</td>\n",
              "      <td>1</td>\n",
              "      <td>0</td>\n",
              "      <td>0</td>\n",
              "      <td>0</td>\n",
              "      <td>1</td>\n",
              "      <td>0</td>\n",
              "      <td>0</td>\n",
              "      <td>0</td>\n",
              "      <td>0</td>\n",
              "      <td>0</td>\n",
              "      <td>0</td>\n",
              "      <td>0</td>\n",
              "      <td>0</td>\n",
              "      <td>0</td>\n",
              "      <td>0</td>\n",
              "      <td>0</td>\n",
              "      <td>0</td>\n",
              "      <td>1</td>\n",
              "      <td>0</td>\n",
              "    </tr>\n",
              "    <tr>\n",
              "      <th>8188</th>\n",
              "      <td>1</td>\n",
              "      <td>2</td>\n",
              "      <td>0</td>\n",
              "      <td>0</td>\n",
              "      <td>0</td>\n",
              "      <td>0</td>\n",
              "      <td>0</td>\n",
              "      <td>0</td>\n",
              "      <td>0</td>\n",
              "      <td>0</td>\n",
              "      <td>0</td>\n",
              "      <td>1</td>\n",
              "      <td>0</td>\n",
              "      <td>0</td>\n",
              "      <td>0</td>\n",
              "      <td>0</td>\n",
              "      <td>0</td>\n",
              "      <td>0</td>\n",
              "      <td>1</td>\n",
              "      <td>0</td>\n",
              "      <td>0</td>\n",
              "      <td>0</td>\n",
              "      <td>2</td>\n",
              "      <td>0</td>\n",
              "      <td>0</td>\n",
              "      <td>0</td>\n",
              "      <td>0</td>\n",
              "      <td>0</td>\n",
              "      <td>0</td>\n",
              "      <td>0</td>\n",
              "      <td>0</td>\n",
              "      <td>0</td>\n",
              "      <td>0</td>\n",
              "      <td>0</td>\n",
              "      <td>0</td>\n",
              "      <td>0</td>\n",
              "      <td>0</td>\n",
              "      <td>2</td>\n",
              "      <td>0</td>\n",
              "      <td>0</td>\n",
              "      <td>...</td>\n",
              "      <td>0</td>\n",
              "      <td>0</td>\n",
              "      <td>0</td>\n",
              "      <td>0</td>\n",
              "      <td>1</td>\n",
              "      <td>0</td>\n",
              "      <td>0</td>\n",
              "      <td>0</td>\n",
              "      <td>0</td>\n",
              "      <td>0</td>\n",
              "      <td>0</td>\n",
              "      <td>0</td>\n",
              "      <td>0</td>\n",
              "      <td>0</td>\n",
              "      <td>0</td>\n",
              "      <td>0</td>\n",
              "      <td>0</td>\n",
              "      <td>0</td>\n",
              "      <td>0</td>\n",
              "      <td>0</td>\n",
              "      <td>0</td>\n",
              "      <td>1</td>\n",
              "      <td>0</td>\n",
              "      <td>0</td>\n",
              "      <td>0</td>\n",
              "      <td>1</td>\n",
              "      <td>0</td>\n",
              "      <td>0</td>\n",
              "      <td>0</td>\n",
              "      <td>0</td>\n",
              "      <td>0</td>\n",
              "      <td>0</td>\n",
              "      <td>0</td>\n",
              "      <td>0</td>\n",
              "      <td>0</td>\n",
              "      <td>0</td>\n",
              "      <td>0</td>\n",
              "      <td>0</td>\n",
              "      <td>1</td>\n",
              "      <td>0</td>\n",
              "    </tr>\n",
              "    <tr>\n",
              "      <th>8189</th>\n",
              "      <td>1</td>\n",
              "      <td>1</td>\n",
              "      <td>0</td>\n",
              "      <td>0</td>\n",
              "      <td>0</td>\n",
              "      <td>0</td>\n",
              "      <td>0</td>\n",
              "      <td>0</td>\n",
              "      <td>0</td>\n",
              "      <td>0</td>\n",
              "      <td>0</td>\n",
              "      <td>0</td>\n",
              "      <td>0</td>\n",
              "      <td>0</td>\n",
              "      <td>1</td>\n",
              "      <td>0</td>\n",
              "      <td>0</td>\n",
              "      <td>0</td>\n",
              "      <td>0</td>\n",
              "      <td>0</td>\n",
              "      <td>0</td>\n",
              "      <td>0</td>\n",
              "      <td>0</td>\n",
              "      <td>0</td>\n",
              "      <td>0</td>\n",
              "      <td>0</td>\n",
              "      <td>0</td>\n",
              "      <td>0</td>\n",
              "      <td>0</td>\n",
              "      <td>1</td>\n",
              "      <td>0</td>\n",
              "      <td>0</td>\n",
              "      <td>0</td>\n",
              "      <td>0</td>\n",
              "      <td>0</td>\n",
              "      <td>0</td>\n",
              "      <td>0</td>\n",
              "      <td>1</td>\n",
              "      <td>0</td>\n",
              "      <td>0</td>\n",
              "      <td>...</td>\n",
              "      <td>0</td>\n",
              "      <td>0</td>\n",
              "      <td>0</td>\n",
              "      <td>0</td>\n",
              "      <td>1</td>\n",
              "      <td>0</td>\n",
              "      <td>0</td>\n",
              "      <td>0</td>\n",
              "      <td>0</td>\n",
              "      <td>0</td>\n",
              "      <td>0</td>\n",
              "      <td>0</td>\n",
              "      <td>0</td>\n",
              "      <td>0</td>\n",
              "      <td>0</td>\n",
              "      <td>0</td>\n",
              "      <td>0</td>\n",
              "      <td>0</td>\n",
              "      <td>0</td>\n",
              "      <td>0</td>\n",
              "      <td>0</td>\n",
              "      <td>1</td>\n",
              "      <td>0</td>\n",
              "      <td>0</td>\n",
              "      <td>0</td>\n",
              "      <td>1</td>\n",
              "      <td>0</td>\n",
              "      <td>0</td>\n",
              "      <td>0</td>\n",
              "      <td>0</td>\n",
              "      <td>0</td>\n",
              "      <td>0</td>\n",
              "      <td>0</td>\n",
              "      <td>0</td>\n",
              "      <td>0</td>\n",
              "      <td>0</td>\n",
              "      <td>0</td>\n",
              "      <td>0</td>\n",
              "      <td>0</td>\n",
              "      <td>1</td>\n",
              "    </tr>\n",
              "  </tbody>\n",
              "</table>\n",
              "<p>8190 rows × 252 columns</p>\n",
              "</div>"
            ],
            "text/plain": [
              "      Class  NumCI  NumDR  NumECI  NumPS  ...  Mon  Sat  Thurs  Tues  Wed\n",
              "0         1      1      0       0      0  ...    0    0      0     1    0\n",
              "1         1      1      0       0      0  ...    0    0      0     0    0\n",
              "2         1      3      1       3      0  ...    1    0      0     0    0\n",
              "3         1      1      0       3      1  ...    0    0      0     1    0\n",
              "4         0      1      0       0      0  ...    0    0      0     0    1\n",
              "...     ...    ...    ...     ...    ...  ...  ...  ...    ...   ...  ...\n",
              "8185      0      2      0       0      0  ...    0    0      0     1    0\n",
              "8186      0      1      0       0      0  ...    0    0      0     1    0\n",
              "8187      1      1      0       0      0  ...    0    0      0     1    0\n",
              "8188      1      2      0       0      0  ...    0    0      0     1    0\n",
              "8189      1      1      0       0      0  ...    0    0      0     0    1\n",
              "\n",
              "[8190 rows x 252 columns]"
            ]
          },
          "metadata": {
            "tags": []
          },
          "execution_count": 12
        },
        {
          "output_type": "display_data",
          "data": {
            "image/png": "[encoded data removed]",
            "text/plain": [
              "<Figure size 432x288 with 1 Axes>"
            ]
          },
          "metadata": {
            "tags": [],
            "needs_background": "light"
          }
        }
      ]
    },
    {
      "cell_type": "code",
      "metadata": {
        "colab": {
          "base_uri": "https://localhost:8080/"
        },
        "id": "5gsf6GRBR3fV",
        "outputId": "e85f484e-43ea-47c8-96b2-f2ec2b50e9a1"
      },
      "source": [
        "print('Acurácia com 252 preditores:', acc[-1])"
      ],
      "execution_count": null,
      "outputs": [
        {
          "output_type": "stream",
          "text": [
            "Acurácia com 252 preditores: 85.9073359073359\n"
          ],
          "name": "stdout"
        }
      ]
    },
    {
      "cell_type": "markdown",
      "metadata": {
        "id": "pjQhVaLEOY-P"
      },
      "source": [
        "A partir da análise do gráfico acima, podemos concluir que o nível de acurária é aumentado conforme se aumenta o número de preditores, dessa forma, torna-se necessária a utilização dos 252 preditores para se obter o melhor resultado possível, com a acurácia chegando a 85.91%."
      ]
    },
    {
      "cell_type": "code",
      "metadata": {
        "colab": {
          "base_uri": "https://localhost:8080/"
        },
        "id": "hr4kRBCdER2V",
        "outputId": "7e862c85-f500-43f2-ac43-2561bbe03bb3"
      },
      "source": [
        "false_positive_rate, true_positive_rate, thresholds = roc_curve(dF_y_test, y_pred_lda)\n",
        "roc_auc = auc(false_positive_rate, true_positive_rate)\n",
        "roc_auc\n"
      ],
      "execution_count": null,
      "outputs": [
        {
          "output_type": "execute_result",
          "data": {
            "text/plain": [
              "0.8443093549476528"
            ]
          },
          "metadata": {
            "tags": []
          },
          "execution_count": 14
        }
      ]
    },
    {
      "cell_type": "code",
      "metadata": {
        "id": "Sgmn2A9VEnmd"
      },
      "source": [
        "def plot_roc(roc_auc):\n",
        "    plt.title('ROC')\n",
        "    plt.plot(false_positive_rate, true_positive_rate, color='red', label='AUC = %0.2f' % roc_auc)\n",
        "    plt.legend(loc='lower right')\n",
        "    plt.plot([0, 1], [0, 1], linestyle='--')\n",
        "    plt.ylabel('Taxa de positivos')\n",
        "    plt.xlabel('Taxa de falsos positivos')"
      ],
      "execution_count": null,
      "outputs": []
    },
    {
      "cell_type": "code",
      "metadata": {
        "colab": {
          "base_uri": "https://localhost:8080/",
          "height": 295
        },
        "id": "Ti5gnpV-Ewin",
        "outputId": "db6abadb-1ad3-47d2-8f7f-acd7f6ffaafa"
      },
      "source": [
        "plot_roc(roc_auc)"
      ],
      "execution_count": null,
      "outputs": [
        {
          "output_type": "display_data",
          "data": {
            "image/png": "[encoded data removed]",
            "text/plain": [
              "<Figure size 432x288 with 1 Axes>"
            ]
          },
          "metadata": {
            "tags": [],
            "needs_background": "light"
          }
        }
      ]
    },
    {
      "cell_type": "markdown",
      "metadata": {
        "id": "EuAwQApYB8GW"
      },
      "source": [
        "# Questão 02"
      ]
    },
    {
      "cell_type": "markdown",
      "metadata": {
        "id": "k4kbuirr8Xge"
      },
      "source": [
        "2- Use os preditores no conjunto de treinamento para aprender um modelo de classificação não linear e testar o modelo usando o conjunto de teste. Para a tarefa, você deve selecionar pelo menos um método entre os seguintes: análise discriminante quadrática, redes neurais, k-vizinhos mais próximos e máquinas de vetores de suporte. Dependendo da seleção do método, ajuste o modelo de maneira conveniente (se necessário, use validação cruzada). Depois de treinar o modelo, calcule a matriz de confusão e a fração geral das previsões corretas.Explique o que a matriz de confusão está dizendo sobre os tipos de classificações erradas feitas pelo método."
      ]
    },
    {
      "cell_type": "markdown",
      "metadata": {
        "id": "zeZthYeETd15"
      },
      "source": [
        "Método KNN"
      ]
    },
    {
      "cell_type": "code",
      "metadata": {
        "id": "rABIA8Lv8Xgh"
      },
      "source": [
        "from sklearn.neighbors import KNeighborsClassifier\n",
        "knn = KNeighborsClassifier(n_neighbors=16)\n",
        "X_train = treino.drop('Class',axis=1)\n",
        "y_train = dF_y_train['Class']\n",
        "X_test  = teste.drop('Class',axis=1)\n",
        "y_test  = dF_y_test['Class']"
      ],
      "execution_count": null,
      "outputs": []
    },
    {
      "cell_type": "code",
      "metadata": {
        "colab": {
          "base_uri": "https://localhost:8080/"
        },
        "id": "xwrPURAC8Xgi",
        "outputId": "f5f79100-1988-4314-88a5-badefe37a6fc"
      },
      "source": [
        "knn.fit(X_train, y_train)"
      ],
      "execution_count": null,
      "outputs": [
        {
          "output_type": "execute_result",
          "data": {
            "text/plain": [
              "KNeighborsClassifier(algorithm='auto', leaf_size=30, metric='minkowski',\n",
              "                     metric_params=None, n_jobs=None, n_neighbors=16, p=2,\n",
              "                     weights='uniform')"
            ]
          },
          "metadata": {
            "tags": []
          },
          "execution_count": 18
        }
      ]
    },
    {
      "cell_type": "code",
      "metadata": {
        "colab": {
          "base_uri": "https://localhost:8080/"
        },
        "id": "m_qSTb8cfpuy",
        "outputId": "f03d83cc-df6b-4090-dfc4-c3f5d6a7703a"
      },
      "source": [
        "y_train"
      ],
      "execution_count": null,
      "outputs": [
        {
          "output_type": "execute_result",
          "data": {
            "text/plain": [
              "0       1\n",
              "1       1\n",
              "2       1\n",
              "3       1\n",
              "4       0\n",
              "       ..\n",
              "8185    0\n",
              "8186    0\n",
              "8187    1\n",
              "8188    1\n",
              "8189    1\n",
              "Name: Class, Length: 8190, dtype: int64"
            ]
          },
          "metadata": {
            "tags": []
          },
          "execution_count": 19
        }
      ]
    },
    {
      "cell_type": "code",
      "metadata": {
        "id": "CwZpUD4c8Xgm"
      },
      "source": [
        "resultado = knn.predict(X_test)"
      ],
      "execution_count": null,
      "outputs": []
    },
    {
      "cell_type": "code",
      "metadata": {
        "colab": {
          "base_uri": "https://localhost:8080/"
        },
        "id": "du9wRX8x8Xgp",
        "outputId": "43ebf100-b445-4cb8-fc09-b1995004442b"
      },
      "source": [
        "print (pd.crosstab(y_test,resultado, rownames=['Real'], colnames=['Predito'], margins=True))"
      ],
      "execution_count": null,
      "outputs": [
        {
          "output_type": "stream",
          "text": [
            "Predito    0    1  All\n",
            "Real                  \n",
            "0        274   55  329\n",
            "1         89  100  189\n",
            "All      363  155  518\n"
          ],
          "name": "stdout"
        }
      ]
    },
    {
      "cell_type": "code",
      "metadata": {
        "colab": {
          "base_uri": "https://localhost:8080/"
        },
        "id": "pJFHBEHhfepe",
        "outputId": "a3266c9e-7437-49d4-e5ad-ac1e4751b315"
      },
      "source": [
        "100*knn.score(X_test, dF_y_test)"
      ],
      "execution_count": null,
      "outputs": [
        {
          "output_type": "execute_result",
          "data": {
            "text/plain": [
              "72.2007722007722"
            ]
          },
          "metadata": {
            "tags": []
          },
          "execution_count": 22
        }
      ]
    },
    {
      "cell_type": "code",
      "metadata": {
        "id": "3pd6ARiGeCWM"
      },
      "source": [
        "kdoknn = []\n",
        "desempenhodoknn = []\n",
        "def scorek(N):\n",
        "  knn = KNeighborsClassifier(n_neighbors=N)\n",
        "  X_train = treino.drop('Class',axis=1)\n",
        "  y_train = dF_y_train['Class']\n",
        "  X_test  = teste.drop('Class',axis=1)\n",
        "  y_test  = dF_y_test['Class']\n",
        "  knn.fit(X_train, y_train)\n",
        "  return 100*knn.score(X_test, dF_y_test)\n",
        "for i in range(1,60):\n",
        "  desempenhodoknn.append(scorek(i))\n",
        "  kdoknn.append(i)"
      ],
      "execution_count": null,
      "outputs": []
    },
    {
      "cell_type": "code",
      "metadata": {
        "colab": {
          "base_uri": "https://localhost:8080/"
        },
        "id": "BLm_gZqkf9in",
        "outputId": "2929d1d9-fe07-4503-8e18-b6a3a933e018"
      },
      "source": [
        "desempenhodoknn.index(max(desempenhodoknn))\n",
        "kdoknn[desempenhodoknn.index(max(desempenhodoknn))]"
      ],
      "execution_count": null,
      "outputs": [
        {
          "output_type": "execute_result",
          "data": {
            "text/plain": [
              "16"
            ]
          },
          "metadata": {
            "tags": []
          },
          "execution_count": 24
        }
      ]
    },
    {
      "cell_type": "code",
      "metadata": {
        "colab": {
          "base_uri": "https://localhost:8080/"
        },
        "id": "Iuh26TOQgPF_",
        "outputId": "e0b9882c-9d04-4bee-d853-a39626c2c540"
      },
      "source": [
        "max(desempenhodoknn)"
      ],
      "execution_count": null,
      "outputs": [
        {
          "output_type": "execute_result",
          "data": {
            "text/plain": [
              "72.2007722007722"
            ]
          },
          "metadata": {
            "tags": []
          },
          "execution_count": 25
        }
      ]
    },
    {
      "cell_type": "code",
      "metadata": {
        "colab": {
          "base_uri": "https://localhost:8080/",
          "height": 279
        },
        "id": "9VawSHRZ8Xgy",
        "outputId": "9dfc38e0-a8d1-4931-abba-1e92818ea7d4"
      },
      "source": [
        "plt.plot(kdoknn,desempenhodoknn,color='b',linestyle='-',marker='*')\n",
        "plt.xlabel('Acurácia (%)')\n",
        "plt.ylabel('Valores de K')\n",
        "desempenhos.append(max(desempenhodoknn))"
      ],
      "execution_count": null,
      "outputs": [
        {
          "output_type": "display_data",
          "data": {
            "image/png": "[encoded data removed]",
            "text/plain": [
              "<Figure size 432x288 with 1 Axes>"
            ]
          },
          "metadata": {
            "tags": [],
            "needs_background": "light"
          }
        }
      ]
    },
    {
      "cell_type": "code",
      "metadata": {
        "id": "T_Fp-TyY8Xg0"
      },
      "source": [
        "X = treino.drop('Class',axis=1)\n",
        "X = np.array(X)[:,[0,251]]\n",
        "y = dF_y_train['Class']\n"
      ],
      "execution_count": null,
      "outputs": []
    },
    {
      "cell_type": "code",
      "metadata": {
        "id": "FRyCHG1a8XhH"
      },
      "source": [
        "from mlxtend.plotting import plot_decision_regions\n",
        "def plot_fronteiras(n_vizinhos):\n",
        "    knn = KNeighborsClassifier(n_neighbors=n_vizinhos)\n",
        "    knn.fit(X, y)\n",
        "    plt.figure(figsize=(8,5))\n",
        "    plot_decision_regions(X,y,clf=knn,legend=2)\n",
        "    plt.xlabel(variaveis[0])\n",
        "    plt.ylabel(variaveis[1])\n",
        "    plt.title('Fronteiras de Complexidade - KNN')"
      ],
      "execution_count": null,
      "outputs": []
    },
    {
      "cell_type": "code",
      "metadata": {
        "colab": {
          "base_uri": "https://localhost:8080/"
        },
        "id": "DAIoWVaYaT2D",
        "outputId": "c5ae4e78-1ea1-40f5-d60f-7f7adce20cdb"
      },
      "source": [
        "y = np.array(y)\n",
        "y"
      ],
      "execution_count": null,
      "outputs": [
        {
          "output_type": "execute_result",
          "data": {
            "text/plain": [
              "array([1, 1, 1, ..., 1, 1, 1])"
            ]
          },
          "metadata": {
            "tags": []
          },
          "execution_count": 29
        }
      ]
    },
    {
      "cell_type": "code",
      "metadata": {
        "colab": {
          "base_uri": "https://localhost:8080/",
          "height": 404
        },
        "id": "ilixIZWCUCV6",
        "outputId": "d997d702-3360-46a8-b937-757f6b952937"
      },
      "source": [
        "plot_fronteiras(kdoknn[desempenhodoknn.index(max(desempenhodoknn))])"
      ],
      "execution_count": null,
      "outputs": [
        {
          "output_type": "stream",
          "text": [
            "/usr/local/lib/python3.7/dist-packages/mlxtend/plotting/decision_regions.py:244: MatplotlibDeprecationWarning: Passing unsupported keyword arguments to axis() will raise a TypeError in 3.3.\n",
            "  ax.axis(xmin=xx.min(), xmax=xx.max(), y_min=yy.min(), y_max=yy.max())\n"
          ],
          "name": "stderr"
        },
        {
          "output_type": "display_data",
          "data": {
            "image/png": "[encoded data removed]",
            "text/plain": [
              "<Figure size 576x360 with 1 Axes>"
            ]
          },
          "metadata": {
            "tags": [],
            "needs_background": "light"
          }
        }
      ]
    },
    {
      "cell_type": "code",
      "metadata": {
        "colab": {
          "base_uri": "https://localhost:8080/",
          "height": 295
        },
        "id": "MbAtx4_TUuYT",
        "outputId": "6ee144b8-0363-46f8-9c5b-a3a1696e3e47"
      },
      "source": [
        "false_positive_rate, true_positive_rate, thresholds = roc_curve(dF_y_test, resultado)\n",
        "roc_auc = auc(false_positive_rate, true_positive_rate)\n",
        "roc_auc\n",
        "plot_roc(roc_auc)"
      ],
      "execution_count": null,
      "outputs": [
        {
          "output_type": "display_data",
          "data": {
            "image/png": "[encoded data removed]",
            "text/plain": [
              "<Figure size 432x288 with 1 Axes>"
            ]
          },
          "metadata": {
            "tags": [],
            "needs_background": "light"
          }
        }
      ]
    },
    {
      "cell_type": "markdown",
      "metadata": {
        "id": "QcAUCws4hQSK"
      },
      "source": [
        "QuadraticDiscriminantAnalysis"
      ]
    },
    {
      "cell_type": "code",
      "metadata": {
        "id": "Q6QHw41n8XhN"
      },
      "source": [
        "from sklearn.discriminant_analysis import QuadraticDiscriminantAnalysis\n",
        "qda = QuadraticDiscriminantAnalysis()\n",
        "qda.fit(X_train, y_train.ravel())\n",
        "y_pred_qda =  qda.predict(np.array(X_test))"
      ],
      "execution_count": null,
      "outputs": []
    },
    {
      "cell_type": "code",
      "metadata": {
        "colab": {
          "base_uri": "https://localhost:8080/"
        },
        "id": "JplhuY0m8XhP",
        "outputId": "1622678b-a3e4-4ad1-9cb2-c6b85a744a69"
      },
      "source": [
        "desempenhos.append(100*qda.score(X_test, y_test))\n",
        "100*qda.score(X_test, y_test)"
      ],
      "execution_count": null,
      "outputs": [
        {
          "output_type": "execute_result",
          "data": {
            "text/plain": [
              "74.5173745173745"
            ]
          },
          "metadata": {
            "tags": []
          },
          "execution_count": 33
        }
      ]
    },
    {
      "cell_type": "code",
      "metadata": {
        "colab": {
          "base_uri": "https://localhost:8080/"
        },
        "id": "LBHYMNOYFP2s",
        "outputId": "0690a8c7-6d37-4ab4-9739-3a6d84a5ea62"
      },
      "source": [
        "log_confusion_matrix = confusion_matrix(dF_y_test, y_pred_qda)\n",
        "log_confusion_matrix"
      ],
      "execution_count": null,
      "outputs": [
        {
          "output_type": "execute_result",
          "data": {
            "text/plain": [
              "array([[264,  65],\n",
              "       [ 67, 122]])"
            ]
          },
          "metadata": {
            "tags": []
          },
          "execution_count": 34
        }
      ]
    },
    {
      "cell_type": "markdown",
      "metadata": {
        "id": "v9xhreX3ICbR"
      },
      "source": [
        "\n",
        "A matriz de confusão indica a quantidade de elementos classificados como negativo, positivo, falso positivo e falso negativo. A partir da análise, podemos concluir que é indicado a quantidade de alunos que deveriam receber a bolsa e não recebem (65) e a quantidade que recebe e não deveriam receber (67)."
      ]
    },
    {
      "cell_type": "code",
      "metadata": {
        "colab": {
          "base_uri": "https://localhost:8080/",
          "height": 295
        },
        "id": "WDAlQ5yg8XhI",
        "outputId": "1f32294c-6839-4b88-b566-9dea12cdff21"
      },
      "source": [
        "false_positive_rate, true_positive_rate, thresholds = roc_curve(dF_y_test, y_pred_qda)\n",
        "roc_auc = auc(false_positive_rate, true_positive_rate)\n",
        "roc_auc\n",
        "plot_roc(roc_auc)"
      ],
      "execution_count": null,
      "outputs": [
        {
          "output_type": "display_data",
          "data": {
            "image/png": "[encoded data removed]",
            "text/plain": [
              "<Figure size 432x288 with 1 Axes>"
            ]
          },
          "metadata": {
            "tags": [],
            "needs_background": "light"
          }
        }
      ]
    },
    {
      "cell_type": "markdown",
      "metadata": {
        "id": "himFNj3SIIvc"
      },
      "source": [
        "#Questão 3\n",
        "\n",
        "Compare os resultados obtidos usando os métodos de classificação linear e não linear. A estrutura não linear melhora o desempenho de classificação?"
      ]
    },
    {
      "cell_type": "markdown",
      "metadata": {
        "id": "_RUF9a8yJNGp"
      },
      "source": [
        "**A estrutura não linear melhora o desempenho da classificação?**\n",
        "Sim, o gráfico de barra indica que o LDA é ligeiramente melhor em termos de acurácia. Porém, se analizarmos os elementos da matriz de confusão, podemos concluir em relação aos falsos positivos e falsos negativos que:\n",
        "\n",
        "O método LDA concede a bolsa prioriamente para pessoas que não deveriam receber e acabam recebendo (falso-positivo), entretanto, o KNN e o QDA não apresentam esse problema, negando em sua grande maioria a bolsa para quem realmente não deveria receber.\n",
        "O LDA apresentou muitos falsos-positivos, ao passo que os demais métodos apresentam uma melhor performance entre os três.\n",
        "Fica notória a importância da matriz de confusão durante o processo de escolha do método. \n",
        "\n",
        "![comparação entre métodos.png](data:image/png;base64,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)\n",
        "\n",
        "\n",
        "\n"
      ]
    },
    {
      "cell_type": "code",
      "metadata": {
        "colab": {
          "base_uri": "https://localhost:8080/",
          "height": 346
        },
        "id": "oOaaJqsH8Xhp",
        "outputId": "7d2223b3-f75a-4691-f99c-35a9bb2c7c0e"
      },
      "source": [
        "metodos = ['LDA','KNN','QDA']\n",
        "plt.bar(range(len(metodos)),desempenhos,color='b')\n",
        "plt.ylabel('Acurácia (%)')\n",
        "plt.xlabel('Método')\n",
        "plt.xticks(range(len(metodos)),metodos)"
      ],
      "execution_count": null,
      "outputs": [
        {
          "output_type": "execute_result",
          "data": {
            "text/plain": [
              "([<matplotlib.axis.XTick at 0x7f3c5fe4f290>,\n",
              "  <matplotlib.axis.XTick at 0x7f3c5fe4f250>,\n",
              "  <matplotlib.axis.XTick at 0x7f3c5fe4f490>],\n",
              " [Text(0, 0, 'LDA'), Text(0, 0, 'KNN'), Text(0, 0, 'QDA')])"
            ]
          },
          "metadata": {
            "tags": []
          },
          "execution_count": 41
        },
        {
          "output_type": "display_data",
          "data": {
            "image/png": "[encoded data removed]",
            "text/plain": [
              "<Figure size 432x288 with 1 Axes>"
            ]
          },
          "metadata": {
            "tags": [],
            "needs_background": "light"
          }
        }
      ]
    },
    {
      "cell_type": "code",
      "metadata": {
        "id": "JlHOCBB6TCzf"
      },
      "source": [
        "def plot_roc2(roc_auc):\n",
        "    plt.title('ROC')\n",
        "    plt.plot(false_positive_rate, true_positive_rate, color='red', label='AUC = %0.2f' % roc_auc)\n",
        "    plt.legend(loc='lower right')\n",
        "    plt.plot([0, 1], [0, 1], linestyle='--')\n",
        "    plt.ylabel('Taxa de positivos')\n",
        "    plt.xlabel('Taxa de falsos positivos')"
      ],
      "execution_count": null,
      "outputs": []
    },
    {
      "cell_type": "code",
      "metadata": {
        "colab": {
          "base_uri": "https://localhost:8080/",
          "height": 296
        },
        "id": "EtQ0-VsAUVCP",
        "outputId": "9c12841e-4be8-4b95-cf04-1fa40fc3caab"
      },
      "source": [
        "false_positive_rate, true_positive_rate, thresholds = roc_curve(dF_y_test, y_pred_lda)\n",
        "roc_auc = auc(false_positive_rate, true_positive_rate)\n",
        "roc_auc\n",
        "plt.plot(false_positive_rate, true_positive_rate, color='g', label=' LDA-AUC='+ str(round(roc_auc,2)))\n",
        "false_positive_rate, true_positive_rate, thresholds = roc_curve(dF_y_test, y_pred_qda)\n",
        "roc_auc_qda = auc(false_positive_rate, true_positive_rate)\n",
        "plt.plot(false_positive_rate, true_positive_rate, color='red', label='QDA-AUC='+ str(round(roc_auc_qda,2))  )\n",
        "false_positive_rate, true_positive_rate, thresholds = roc_curve(dF_y_test, resultado)\n",
        "roc_auc_qda = auc(false_positive_rate, true_positive_rate)\n",
        "plt.plot(false_positive_rate, true_positive_rate, color='yellow', label='KNN-AUC='+ str(round(roc_auc_qda,2))  )\n",
        "plt.plot([0, 1], [0, 1], linestyle='--',label='Aleatório')\n",
        "plt.ylabel('Sensibilidade')\n",
        "plt.xlabel('1-Especificidade')\n",
        "plt.legend()"
      ],
      "execution_count": null,
      "outputs": [
        {
          "output_type": "execute_result",
          "data": {
            "text/plain": [
              "<matplotlib.legend.Legend at 0x7f3c5fe20290>"
            ]
          },
          "metadata": {
            "tags": []
          },
          "execution_count": 43
        },
        {
          "output_type": "display_data",
          "data": {
            "image/png": "[encoded data removed]",
            "text/plain": [
              "<Figure size 432x288 with 1 Axes>"
            ]
          },
          "metadata": {
            "tags": [],
            "needs_background": "light"
          }
        }
      ]
    }
  ]
}